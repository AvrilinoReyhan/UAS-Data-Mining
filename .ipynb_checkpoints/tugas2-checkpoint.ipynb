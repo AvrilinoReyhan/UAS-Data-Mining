{
 "cells": [
  {
   "cell_type": "code",
   "execution_count": 8,
   "id": "dc861373-2161-44f5-8621-a857a6387db3",
   "metadata": {},
   "outputs": [
    {
     "name": "stdout",
     "output_type": "stream",
     "text": [
      "Note: you may need to restart the kernel to use updated packages.Collecting git+https://github.com/LIAAD/yake\n",
      "  Cloning https://github.com/LIAAD/yake to c:\\users\\avrilino reyhan\\appdata\\local\\temp\\pip-req-build-24zrkvsp\n",
      "  Resolved https://github.com/LIAAD/yake to commit 374fc1c1c19eb080d5b6115cbb8d4a4324392e54\n",
      "  Installing build dependencies: started\n",
      "  Installing build dependencies: finished with status 'done'\n",
      "  Getting requirements to build wheel: started\n",
      "  Getting requirements to build wheel: finished with status 'done'\n",
      "  Installing backend dependencies: started\n",
      "  Installing backend dependencies: finished with status 'done'\n",
      "  Preparing metadata (pyproject.toml): started\n",
      "  Preparing metadata (pyproject.toml): finished with status 'done'\n",
      "Requirement already satisfied: tabulate in c:\\users\\avrilino reyhan\\appdata\\local\\packages\\pythonsoftwarefoundation.python.3.11_qbz5n2kfra8p0\\localcache\\local-packages\\python311\\site-packages (from yake==0.4.8) (0.9.0)\n",
      "Requirement already satisfied: click>=6.0 in c:\\users\\avrilino reyhan\\appdata\\local\\packages\\pythonsoftwarefoundation.python.3.11_qbz5n2kfra8p0\\localcache\\local-packages\\python311\\site-packages (from yake==0.4.8) (8.1.6)\n",
      "Requirement already satisfied: numpy in c:\\users\\avrilino reyhan\\appdata\\local\\packages\\pythonsoftwarefoundation.python.3.11_qbz5n2kfra8p0\\localcache\\local-packages\\python311\\site-packages (from yake==0.4.8) (1.25.1)\n",
      "Requirement already satisfied: segtok in c:\\users\\avrilino reyhan\\appdata\\local\\packages\\pythonsoftwarefoundation.python.3.11_qbz5n2kfra8p0\\localcache\\local-packages\\python311\\site-packages (from yake==0.4.8) (1.5.11)\n",
      "Requirement already satisfied: networkx in c:\\users\\avrilino reyhan\\appdata\\local\\packages\\pythonsoftwarefoundation.python.3.11_qbz5n2kfra8p0\\localcache\\local-packages\\python311\\site-packages (from yake==0.4.8) (3.1)\n",
      "Requirement already satisfied: jellyfish in c:\\users\\avrilino reyhan\\appdata\\local\\packages\\pythonsoftwarefoundation.python.3.11_qbz5n2kfra8p0\\localcache\\local-packages\\python311\\site-packages (from yake==0.4.8) (1.0.0)\n",
      "Requirement already satisfied: colorama in c:\\users\\avrilino reyhan\\appdata\\local\\packages\\pythonsoftwarefoundation.python.3.11_qbz5n2kfra8p0\\localcache\\local-packages\\python311\\site-packages (from click>=6.0->yake==0.4.8) (0.4.6)\n",
      "Requirement already satisfied: regex in c:\\users\\avrilino reyhan\\appdata\\local\\packages\\pythonsoftwarefoundation.python.3.11_qbz5n2kfra8p0\\localcache\\local-packages\\python311\\site-packages (from segtok->yake==0.4.8) (2023.6.3)\n",
      "\n"
     ]
    },
    {
     "name": "stderr",
     "output_type": "stream",
     "text": [
      "  Running command git clone --filter=blob:none --quiet https://github.com/LIAAD/yake 'C:\\Users\\Avrilino Reyhan\\AppData\\Local\\Temp\\pip-req-build-24zrkvsp'\n",
      "\n",
      "[notice] A new release of pip is available: 23.1.2 -> 23.2.1\n",
      "[notice] To update, run: C:\\Users\\Avrilino Reyhan\\AppData\\Local\\Microsoft\\WindowsApps\\PythonSoftwareFoundation.Python.3.11_qbz5n2kfra8p0\\python.exe -m pip install --upgrade pip\n"
     ]
    }
   ],
   "source": [
    "pip install git+https://github.com/LIAAD/yake"
   ]
  },
  {
   "cell_type": "code",
   "execution_count": 9,
   "id": "5a978e7c-2199-407e-9b66-2931f1565a19",
   "metadata": {},
   "outputs": [
    {
     "name": "stdout",
     "output_type": "stream",
     "text": [
      "Requirement already satisfied: nltk in c:\\users\\avrilino reyhan\\appdata\\local\\packages\\pythonsoftwarefoundation.python.3.11_qbz5n2kfra8p0\\localcache\\local-packages\\python311\\site-packages (3.8.1)\n",
      "Requirement already satisfied: click in c:\\users\\avrilino reyhan\\appdata\\local\\packages\\pythonsoftwarefoundation.python.3.11_qbz5n2kfra8p0\\localcache\\local-packages\\python311\\site-packages (from nltk) (8.1.6)\n",
      "Requirement already satisfied: joblib in c:\\users\\avrilino reyhan\\appdata\\local\\packages\\pythonsoftwarefoundation.python.3.11_qbz5n2kfra8p0\\localcache\\local-packages\\python311\\site-packages (from nltk) (1.3.1)\n",
      "Requirement already satisfied: regex>=2021.8.3 in c:\\users\\avrilino reyhan\\appdata\\local\\packages\\pythonsoftwarefoundation.python.3.11_qbz5n2kfra8p0\\localcache\\local-packages\\python311\\site-packages (from nltk) (2023.6.3)\n",
      "Requirement already satisfied: tqdm in c:\\users\\avrilino reyhan\\appdata\\local\\packages\\pythonsoftwarefoundation.python.3.11_qbz5n2kfra8p0\\localcache\\local-packages\\python311\\site-packages (from nltk) (4.65.0)\n",
      "Requirement already satisfied: colorama in c:\\users\\avrilino reyhan\\appdata\\local\\packages\\pythonsoftwarefoundation.python.3.11_qbz5n2kfra8p0\\localcache\\local-packages\\python311\\site-packages (from click->nltk) (0.4.6)\n"
     ]
    },
    {
     "name": "stderr",
     "output_type": "stream",
     "text": [
      "\n",
      "[notice] A new release of pip is available: 23.1.2 -> 23.2.1\n",
      "[notice] To update, run: C:\\Users\\Avrilino Reyhan\\AppData\\Local\\Microsoft\\WindowsApps\\PythonSoftwareFoundation.Python.3.11_qbz5n2kfra8p0\\python.exe -m pip install --upgrade pip\n"
     ]
    }
   ],
   "source": [
    "!pip install nltk"
   ]
  },
  {
   "cell_type": "code",
   "execution_count": 10,
   "id": "6001b7cb-11c8-4c90-b457-33a022ff72ba",
   "metadata": {},
   "outputs": [],
   "source": [
    "import os"
   ]
  },
  {
   "cell_type": "code",
   "execution_count": 18,
   "id": "b9b489cf-3d40-4630-bc4d-8a259cf9baa0",
   "metadata": {},
   "outputs": [
    {
     "name": "stderr",
     "output_type": "stream",
     "text": [
      "[nltk_data] Downloading package punkt to C:\\Users\\Avrilino\n",
      "[nltk_data]     Reyhan\\AppData\\Roaming\\nltk_data...\n",
      "[nltk_data]   Package punkt is already up-to-date!\n",
      "[nltk_data] Downloading package stopwords to C:\\Users\\Avrilino\n",
      "[nltk_data]     Reyhan\\AppData\\Roaming\\nltk_data...\n",
      "[nltk_data]   Package stopwords is already up-to-date!\n"
     ]
    },
    {
     "data": {
      "text/plain": [
       "True"
      ]
     },
     "execution_count": 18,
     "metadata": {},
     "output_type": "execute_result"
    }
   ],
   "source": [
    "import yake\n",
    "import nltk\n",
    "from nltk.corpus import stopwords\n",
    "from nltk.tokenize import word_tokenize\n",
    "from nltk.stem import PorterStemmer\n",
    "import string\n",
    "\n",
    "nltk.download('punkt')\n",
    "nltk.download('stopwords')"
   ]
  },
  {
   "cell_type": "code",
   "execution_count": 11,
   "id": "bf5af885-e84d-4d6c-9db0-233ddecc5b73",
   "metadata": {},
   "outputs": [],
   "source": [
    "def preprocess_text(text):\n",
    "    # Tokenisasi teks menjadi kata-kata\n",
    "    words = word_tokenize(text.lower())\n",
    "\n",
    "    # Penghapusan tanda baca dan karakter non-abjad\n",
    "    words_filtered = [word for word in words if word.isalnum()]\n",
    "\n",
    "    # Penghapusan kata-kata stopword\n",
    "    stop_words = set(stopwords.words(\"indonesian\"))\n",
    "    words_filtered = [word for word in words_filtered if word not in stop_words]\n",
    "\n",
    "    # Stemming kata-kata untuk mendapatkan bentuk kata dasar\n",
    "    ps = PorterStemmer()\n",
    "    words_stemmed = [ps.stem(word) for word in words_filtered]\n",
    "\n",
    "    return \" \".join(words_stemmed)\n",
    "\n",
    "def yake_keywords(text, max_keywords=5):\n",
    "    # Inisialisasi ekstraktor YAKE\n",
    "    custom_kw_extractor = yake.KeywordExtractor(n=1, top=max_keywords, features=None)\n",
    "\n",
    "    # Ekstraksi kata kunci menggunakan YAKE\n",
    "    keywords = custom_kw_extractor.extract_keywords(text)\n",
    "\n",
    "    return [keyword for keyword, score in keywords]\n",
    "\n",
    "def read_abstract_from_file(file_path):\n",
    "    with open(file_path, 'r', encoding='utf-8') as file:\n",
    "        return file.read()"
   ]
  },
  {
   "cell_type": "code",
   "execution_count": 19,
   "id": "3645bd70-5ed6-492d-bbe6-9813453ad51d",
   "metadata": {},
   "outputs": [
    {
     "name": "stdout",
     "output_type": "stream",
     "text": [
      "Abstrak abstrak1.txt:\n",
      "Preprocessed Text: perkembangan teknolog industri menyebabkan kebutuhan energi listrik domestik cenderung meningkat seir pertumbuhan ekonomi populasi pltu tanjung tuban pembangkit listrik berbahan bakar batu bara sistem penanganan materi batu bara mesin bergerak sr dikombinasikan fasilita penyimpanan penimbunan otomatisasi peralatan mesin menjanjikan keuntungan peningkatan kondisi kerja keselamatan peningkatan produksi pengurangan biaya perawatan kecepatan pemangkasan dioptimalkan operasi peralatan lancar pekerjaan berulang ergonomi oper gangguan muskuloskelet terkait pekerjaan wmsd musculoskelet disord mengakibakan kelainan otot tulang saraf tendon jaringan lunak aktivita kerja hasil survei kuision 8 oper 4 shift merasakan sakit punggung leher dialami oper mengendalikan duduk rentang pekerjaan 8 jam hasil analisi postur kerja metod reba oper hasilnya dimana oper memiliki risiko action level menandakan pemeriksaan perubahan kunci muskuloskelet oper reba rula\n",
      "Keywords: ['oper', 'kerja', 'pekerjaan', 'batu', 'bara']\n",
      "\n",
      "Abstrak abstrak2.txt:\n",
      "Preprocessed Text: pt inax intern perusahaan pecah belah didirikan samso hidayat perusahaan memproduksi jeni keramik closet tangki wastafel urin lokasi jl raya randugarut no km 14 wonosari kec ngaliyan kota semarang jawa cast seko line produksi memproduksi closet mold cetakan closet closet diproduksi 2022 agustu 2022 perusahaan memproduksi 1092 pc memiliki persentas target produksi 85 pengecoran seko memiliki tercapainya persentas target produksi 66 penyebabnya defect berlebih pengecoran 3 jeni hasil dominan retak mold 143 pc retak drain 144 pc retak mold kaki 81 pc total defect mencapai 368 pc total jeni cacat ditemukan sesuai standar ditetapkan perusahaan cast seko bodi manusia metod materi lingkungan mesin mempengaruhi cacat produk permasalahan diselesaikan metod six sigma menganalisa permasalahan six sigma diken metod dmaic defin measur analyz improv control tahap defin pengamatan langsung cast seko pengambilan data reject cast seko bodi tahap measur menghitung tingkat defect menghitung nilai dpo defect opportunitti nilai dpmo defect mullion opportunitti tahap analyz analisa penyebab tahap improv perbaikan tahap penel saran perbaikan manajemen perusahaan tahap control tindakan pengendalian hasil peningkatan six sigma tahap improv cacat mendekati zero defect kunci six sigma seko target produksi cacat produk pengendalian kualita\n",
      "Keywords: ['seko', 'cast', 'sigma', 'tahap', 'target']\n",
      "\n",
      "Abstrak abstrak3.txt:\n",
      "Preprocessed Text: bu rapid transit tran jateng salah transportasi dewasa usia salah metod menganalisi kualita pelayanan servqual servic qualiti triz teoriya resheniya izobretatelskikh zadatch servqual menentukan tingkat kualita pelayanan triz mencari solusi permasalahan berdasarkan data kuesion pendahuluan diperoleh 76 100 responden mengisi kuesion pua pelayanan analisa perbaikan pelayanan kualita hasil pengolahan metod servqual 25 variabel memiliki nilai negatif nilai variabel negatif terbesar ketepatan jam operasion brt v10 hasil nilai variabel terkecil tersedia sampah halt didalam brt v8 hasil berdasarkan hasil analisi triz didapatkan 16 invent principl mengatasi gap permasalahan nomor muncul kali frekuensi tertinggi nomor 10 preliminari action persiapan nomor 28 mechan substitut penggantian sistem teknik usulan perbaikan prinsip nomor 10 petuga kebersihan mengatur membersihkan membuka pelayanan mengatur prose pembersihan pelanggan perusahaan mengadakan pelatihan petuga menambah informasi media sosial pelanggan kebingungan peralihan jalur libur usulan prinsip nomor 28 mechan substitut penggantian sistem teknik mengubah sistem pembayaran semulanya membayar didalam brt diganti halt memudahkan petuga pelayanan kunci brt tran jateng kepuasan konsumen servqual triz\n",
      "Keywords: ['pelayanan', 'nomor', 'mechan', 'sistem', 'brt']\n",
      "\n",
      "Abstrak abstrak4.txt:\n",
      "Preprocessed Text: pt parkland world indonesia rembang perusahan manufaktur bergerak dibidang produksi sepatu prose produksinya memiliki potensi terkait risiko kecelakaan kerja kecelakaan kategori ringan kecelakaan kategori berat bersifat menghambat kelancaran prose produksi upaya mengurangi kecelakaan kerja akibat bahaya risiko ditimbulkan mengidentifikasi bahaya penilaian risiko pengendalian risiko tindakan mencegah kecelakaan kerja diterapkan perusahaan mengurangi potensi bahaya tindakan mencegah risiko k3 diterapkan perusahaan meminimalkan potensi bahaya data histori perusahaan kurun kecelakaan kerja 77 kali tujuan penelitian menganalisa identifikasi bahaya penilaian risiko pt parkland world indonesia rembang pengendalian risiko risiko penelitian menerapkan metod jsa job safeti analysi metod prose identifikasi penilaian pengendalian perbaikan foku mendeteksi risiko disebabkan pekerjaan ditanggani penyebab bahaya teridentifikasi langkah rekomendasi terbaik meminimalkan risiko kecelakaan kerja hasil penelitian metod jsa diperoleh identikasi bahaya area bottom room bahaya fisik fisika bahaya kimia pekerjaan area bottom room penilaian risiko memiliki tingkat risiko memiliki high risk 25 meder risk low risk rekomendasi yaang rutin safeti talk commit patrol pembicaraan patroli keamanan potensi bahaya aktivita kerja mencagah kecelakaan kerja melaksanankan keselamatan kesehatan kerja safeti brief rutin mengawali operasi kerja pekerja aman mengevaluasi aktivita selesai kerja solasi energi aman apd lengkap kondisi terpasang kunci analisi kecelakaan kerja jsa pt parkland world indonesia rembang\n",
      "Keywords: ['kecelakaan', 'kerja', 'risiko', 'bahaya', 'penilaian']\n",
      "\n",
      "Abstrak abstrak5.txt:\n",
      "Preprocessed Text: penelitian bertujuan penyebab penurunan pendapatan beras faktor intern perusahaan cv putra mandiri cv putra mandiri perusahaan bidang jual beli spare part steam global solut penelitian menganalisi strategi pemasaran cocok meningkatkan penjualan cv putra mandiri metod swot metod penelitian eksperimen dimana data diambil langsung perusahaan terkait penelitian metod interview metod wawancara sumber informasi metod analisi data swot hasil penelitian strategi pemasaran cocok cv putra mandiri alternatif strategi pemasaran cv putra mandiri meningkatkan daya sa pasaran i perluasan daerah pasar ii memaksimalkan lokasi strategi pelayanan iii menambah intensita promosi perusahaan iv menambah sumber daya manusia sesuai kebutuhan v penambahan ragam produk perusahaan vi pemanfaatan sumber daya manusia terpercaya vii perbaikan sistem kerja manajemen keuangan stabil kunci cv putra mandiri strategi alternatif swot\n",
      "Keywords: ['putra', 'mandiri', 'pemasaran', 'strategi', 'daya']\n",
      "\n"
     ]
    }
   ],
   "source": [
    "# Lokasi folder abstrak\n",
    "folder_path = \"abstrak/\"\n",
    "\n",
    "# Mengekstraksi kata kunci untuk setiap file abstrak dalam folder\n",
    "for filename in os.listdir(folder_path):\n",
    "    if filename.endswith(\".txt\"):\n",
    "        file_path = os.path.join(folder_path, filename)\n",
    "\n",
    "        # Baca isi file abstrak\n",
    "        text = read_abstract_from_file(file_path)\n",
    "\n",
    "        # Pra-pemrosesan teks\n",
    "        preprocessed_text = preprocess_text(text)\n",
    "\n",
    "        print(f\"Abstrak {filename}:\")\n",
    "        print(\"Preprocessed Text:\", preprocessed_text)\n",
    "\n",
    "        # Ekstraksi kata kunci menggunakan YAKE\n",
    "        keywords = yake_keywords(preprocessed_text)\n",
    "\n",
    "        print(\"Keywords:\", keywords)\n",
    "        print()"
   ]
  },
  {
   "cell_type": "code",
   "execution_count": null,
   "id": "7f7f4667-ddc4-4c99-836c-0eb0bf4d99bc",
   "metadata": {},
   "outputs": [],
   "source": []
  }
 ],
 "metadata": {
  "kernelspec": {
   "display_name": "Python 3 (ipykernel)",
   "language": "python",
   "name": "python3"
  },
  "language_info": {
   "codemirror_mode": {
    "name": "ipython",
    "version": 3
   },
   "file_extension": ".py",
   "mimetype": "text/x-python",
   "name": "python",
   "nbconvert_exporter": "python",
   "pygments_lexer": "ipython3",
   "version": "3.11.4"
  }
 },
 "nbformat": 4,
 "nbformat_minor": 5
}
